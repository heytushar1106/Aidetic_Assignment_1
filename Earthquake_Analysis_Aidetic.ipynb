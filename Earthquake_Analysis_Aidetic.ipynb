{
 "cells": [
  {
   "cell_type": "code",
   "execution_count": 0,
   "metadata": {
    "application/vnd.databricks.v1+cell": {
     "cellMetadata": {
      "byteLimit": 2048000,
      "rowLimit": 10000
     },
     "inputWidgets": {},
     "nuid": "3f7ec2f3-ee6f-4369-b670-4d821598e22d",
     "showTitle": false,
     "title": ""
    }
   },
   "outputs": [
    {
     "output_type": "stream",
     "name": "stdout",
     "output_type": "stream",
     "text": [
      "+----------+-------------------+--------+---------+----------+-----+-----------+----------------------+---------+--------------+---------------+--------------------------+-------------+-------------------+----------------+----------------+-------------------------+---------+---------------+----------------+---------+\n|Date      |Time               |Latitude|Longitude|Type      |Depth|Depth Error|Depth Seismic Stations|Magnitude|Magnitude Type|Magnitude Error|Magnitude Seismic Stations|Azimuthal Gap|Horizontal Distance|Horizontal Error|Root Mean Square|ID                       |Source   |Location Source|Magnitude Source|Status   |\n+----------+-------------------+--------+---------+----------+-----+-----------+----------------------+---------+--------------+---------------+--------------------------+-------------+-------------------+----------------+----------------+-------------------------+---------+---------------+----------------+---------+\n|01/02/1965|2024-02-07 13:44:18|19.246  |145.616  |Earthquake|131.6|null       |null                  |6.0      |MW            |null           |null                      |null         |null               |null            |null            |ISCGEM860706             |ISCGEM   |ISCGEM         |ISCGEM          |Automatic|\n|01/04/1965|2024-02-07 11:29:49|1.863   |127.352  |Earthquake|80.0 |null       |null                  |5.8      |MW            |null           |null                      |null         |null               |null            |null            |ISCGEM860737             |ISCGEM   |ISCGEM         |ISCGEM          |Automatic|\n|01/05/1965|2024-02-07 18:05:58|-20.579 |-173.972 |Earthquake|20.0 |null       |null                  |6.2      |MW            |null           |null                      |null         |null               |null            |null            |ISCGEM860762             |ISCGEM   |ISCGEM         |ISCGEM          |Automatic|\n|01/08/1965|2024-02-07 18:49:43|-59.076 |-23.557  |Earthquake|15.0 |null       |null                  |5.8      |MW            |null           |null                      |null         |null               |null            |null            |ISCGEM860856             |ISCGEM   |ISCGEM         |ISCGEM          |Automatic|\n|01/09/1965|2024-02-07 13:32:50|11.938  |126.427  |Earthquake|15.0 |null       |null                  |5.8      |MW            |null           |null                      |null         |null               |null            |null            |ISCGEM860890             |ISCGEM   |ISCGEM         |ISCGEM          |Automatic|\n|01/10/1965|2024-02-07 13:36:32|-13.405 |166.629  |Earthquake|35.0 |null       |null                  |6.7      |MW            |null           |null                      |null         |null               |null            |null            |ISCGEM860922             |ISCGEM   |ISCGEM         |ISCGEM          |Automatic|\n|01/12/1965|2024-02-07 13:32:25|27.357  |87.867   |Earthquake|20.0 |null       |null                  |5.9      |MW            |null           |null                      |null         |null               |null            |null            |ISCGEM861007             |ISCGEM   |ISCGEM         |ISCGEM          |Automatic|\n|01/15/1965|2024-02-07 23:17:42|-13.309 |166.212  |Earthquake|35.0 |null       |null                  |6.0      |MW            |null           |null                      |null         |null               |null            |null            |ISCGEM861111             |ISCGEM   |ISCGEM         |ISCGEM          |Automatic|\n|01/16/1965|2024-02-07 11:32:37|-56.452 |-27.043  |Earthquake|95.0 |null       |null                  |6.0      |MW            |null           |null                      |null         |null               |null            |null            |ISCGEMSUP861125          |ISCGEMSUP|ISCGEM         |ISCGEM          |Automatic|\n|01/17/1965|2024-02-07 10:43:17|-24.563 |178.487  |Earthquake|565.0|null       |null                  |5.8      |MW            |null           |null                      |null         |null               |null            |null            |ISCGEM861148             |ISCGEM   |ISCGEM         |ISCGEM          |Automatic|\n|01/17/1965|2024-02-07 20:57:41|-6.807  |108.988  |Earthquake|227.9|null       |null                  |5.9      |MW            |null           |null                      |null         |null               |null            |null            |ISCGEM861155             |ISCGEM   |ISCGEM         |ISCGEM          |Automatic|\n|01/24/1965|2024-02-07 00:11:17|-2.608  |125.952  |Earthquake|20.0 |null       |null                  |8.2      |MW            |null           |null                      |null         |null               |null            |null            |ISCGEM861299             |ISCGEM   |ISCGEM         |ISCGEM          |Automatic|\n|01/29/1965|2024-02-07 09:35:30|54.636  |161.703  |Earthquake|55.0 |null       |null                  |5.5      |MW            |null           |null                      |null         |null               |null            |null            |ISCGEM861461             |ISCGEM   |ISCGEM         |ISCGEM          |Automatic|\n|02/01/1965|2024-02-07 05:27:06|-18.697 |-177.864 |Earthquake|482.9|null       |null                  |5.6      |MW            |null           |null                      |null         |null               |null            |null            |ISCGEM859136             |ISCGEM   |ISCGEM         |ISCGEM          |Automatic|\n|02/02/1965|2024-02-07 15:56:51|37.523  |73.251   |Earthquake|15.0 |null       |null                  |6.0      |MW            |null           |null                      |null         |null               |null            |null            |ISCGEM859164             |ISCGEM   |ISCGEM         |ISCGEM          |Automatic|\n|02/04/1965|2024-02-07 03:25:00|-51.84  |139.741  |Earthquake|10.0 |null       |null                  |6.1      |MW            |null           |null                      |null         |null               |null            |null            |ISCGEM859200             |ISCGEM   |ISCGEM         |ISCGEM          |Automatic|\n|02/04/1965|2024-02-07 05:01:22|51.251  |178.715  |Earthquake|30.3 |null       |null                  |8.7      |MW            |null           |null                      |null         |null               |null            |null            |OFFICIAL19650204050122_30|OFFICIAL |ISCGEM         |OFFICIAL        |Automatic|\n|02/04/1965|2024-02-07 06:04:59|51.639  |175.055  |Earthquake|30.0 |null       |null                  |6.0      |MW            |null           |null                      |null         |null               |null            |null            |ISCGEMSUP859215          |ISCGEMSUP|ISCGEM         |ISCGEM          |Automatic|\n|02/04/1965|2024-02-07 06:37:06|52.528  |172.007  |Earthquake|25.0 |null       |null                  |5.7      |MW            |null           |null                      |null         |null               |null            |null            |ISCGEM859221             |ISCGEM   |ISCGEM         |ISCGEM          |Automatic|\n|02/04/1965|2024-02-07 06:39:32|51.626  |175.746  |Earthquake|25.0 |null       |null                  |5.8      |MW            |null           |null                      |null         |null               |null            |null            |ISCGEM859222             |ISCGEM   |ISCGEM         |ISCGEM          |Automatic|\n+----------+-------------------+--------+---------+----------+-----+-----------+----------------------+---------+--------------+---------------+--------------------------+-------------+-------------------+----------------+----------------+-------------------------+---------+---------------+----------------+---------+\nonly showing top 20 rows\n\n"
     ]
    }
   ],
   "source": [
    "#Load the  dataset into a PySpark DataFrame.\n",
    "from pyspark.sql import SparkSession\n",
    "spark = SparkSession.builder.appName(\"Earthquake_Analysis\").getOrCreate()\n",
    "file_path = \"/FileStore/tables/database-2.csv\"\n",
    "df = spark.read.csv(file_path, header=True, inferSchema=True)\n",
    "\n",
    "df.show(truncate=False)"
   ]
  },
  {
   "cell_type": "code",
   "execution_count": 0,
   "metadata": {
    "application/vnd.databricks.v1+cell": {
     "cellMetadata": {
      "byteLimit": 2048000,
      "rowLimit": 10000
     },
     "inputWidgets": {},
     "nuid": "01cabad0-1c86-4182-b4f0-a4e3e66e5242",
     "showTitle": false,
     "title": ""
    }
   },
   "outputs": [
    {
     "output_type": "stream",
     "name": "stdout",
     "output_type": "stream",
     "text": [
      "+----------+-------------------+--------+---------+----------+-----+-----------+----------------------+---------+--------------+---------------+--------------------------+-------------+-------------------+----------------+----------------+--------------------+---------+---------------+----------------+---------+---------+\n|      Date|               Time|Latitude|Longitude|      Type|Depth|Depth Error|Depth Seismic Stations|Magnitude|Magnitude Type|Magnitude Error|Magnitude Seismic Stations|Azimuthal Gap|Horizontal Distance|Horizontal Error|Root Mean Square|                  ID|   Source|Location Source|Magnitude Source|   Status|Timestamp|\n+----------+-------------------+--------+---------+----------+-----+-----------+----------------------+---------+--------------+---------------+--------------------------+-------------+-------------------+----------------+----------------+--------------------+---------+---------------+----------------+---------+---------+\n|01/02/1965|2024-02-07 13:44:18|  19.246|  145.616|Earthquake|131.6|       null|                  null|      6.0|            MW|           null|                      null|         null|               null|            null|            null|        ISCGEM860706|   ISCGEM|         ISCGEM|          ISCGEM|Automatic|     null|\n|01/04/1965|2024-02-07 11:29:49|   1.863|  127.352|Earthquake| 80.0|       null|                  null|      5.8|            MW|           null|                      null|         null|               null|            null|            null|        ISCGEM860737|   ISCGEM|         ISCGEM|          ISCGEM|Automatic|     null|\n|01/05/1965|2024-02-07 18:05:58| -20.579| -173.972|Earthquake| 20.0|       null|                  null|      6.2|            MW|           null|                      null|         null|               null|            null|            null|        ISCGEM860762|   ISCGEM|         ISCGEM|          ISCGEM|Automatic|     null|\n|01/08/1965|2024-02-07 18:49:43| -59.076|  -23.557|Earthquake| 15.0|       null|                  null|      5.8|            MW|           null|                      null|         null|               null|            null|            null|        ISCGEM860856|   ISCGEM|         ISCGEM|          ISCGEM|Automatic|     null|\n|01/09/1965|2024-02-07 13:32:50|  11.938|  126.427|Earthquake| 15.0|       null|                  null|      5.8|            MW|           null|                      null|         null|               null|            null|            null|        ISCGEM860890|   ISCGEM|         ISCGEM|          ISCGEM|Automatic|     null|\n|01/10/1965|2024-02-07 13:36:32| -13.405|  166.629|Earthquake| 35.0|       null|                  null|      6.7|            MW|           null|                      null|         null|               null|            null|            null|        ISCGEM860922|   ISCGEM|         ISCGEM|          ISCGEM|Automatic|     null|\n|01/12/1965|2024-02-07 13:32:25|  27.357|   87.867|Earthquake| 20.0|       null|                  null|      5.9|            MW|           null|                      null|         null|               null|            null|            null|        ISCGEM861007|   ISCGEM|         ISCGEM|          ISCGEM|Automatic|     null|\n|01/15/1965|2024-02-07 23:17:42| -13.309|  166.212|Earthquake| 35.0|       null|                  null|      6.0|            MW|           null|                      null|         null|               null|            null|            null|        ISCGEM861111|   ISCGEM|         ISCGEM|          ISCGEM|Automatic|     null|\n|01/16/1965|2024-02-07 11:32:37| -56.452|  -27.043|Earthquake| 95.0|       null|                  null|      6.0|            MW|           null|                      null|         null|               null|            null|            null|     ISCGEMSUP861125|ISCGEMSUP|         ISCGEM|          ISCGEM|Automatic|     null|\n|01/17/1965|2024-02-07 10:43:17| -24.563|  178.487|Earthquake|565.0|       null|                  null|      5.8|            MW|           null|                      null|         null|               null|            null|            null|        ISCGEM861148|   ISCGEM|         ISCGEM|          ISCGEM|Automatic|     null|\n|01/17/1965|2024-02-07 20:57:41|  -6.807|  108.988|Earthquake|227.9|       null|                  null|      5.9|            MW|           null|                      null|         null|               null|            null|            null|        ISCGEM861155|   ISCGEM|         ISCGEM|          ISCGEM|Automatic|     null|\n|01/24/1965|2024-02-07 00:11:17|  -2.608|  125.952|Earthquake| 20.0|       null|                  null|      8.2|            MW|           null|                      null|         null|               null|            null|            null|        ISCGEM861299|   ISCGEM|         ISCGEM|          ISCGEM|Automatic|     null|\n|01/29/1965|2024-02-07 09:35:30|  54.636|  161.703|Earthquake| 55.0|       null|                  null|      5.5|            MW|           null|                      null|         null|               null|            null|            null|        ISCGEM861461|   ISCGEM|         ISCGEM|          ISCGEM|Automatic|     null|\n|02/01/1965|2024-02-07 05:27:06| -18.697| -177.864|Earthquake|482.9|       null|                  null|      5.6|            MW|           null|                      null|         null|               null|            null|            null|        ISCGEM859136|   ISCGEM|         ISCGEM|          ISCGEM|Automatic|     null|\n|02/02/1965|2024-02-07 15:56:51|  37.523|   73.251|Earthquake| 15.0|       null|                  null|      6.0|            MW|           null|                      null|         null|               null|            null|            null|        ISCGEM859164|   ISCGEM|         ISCGEM|          ISCGEM|Automatic|     null|\n|02/04/1965|2024-02-07 03:25:00|  -51.84|  139.741|Earthquake| 10.0|       null|                  null|      6.1|            MW|           null|                      null|         null|               null|            null|            null|        ISCGEM859200|   ISCGEM|         ISCGEM|          ISCGEM|Automatic|     null|\n|02/04/1965|2024-02-07 05:01:22|  51.251|  178.715|Earthquake| 30.3|       null|                  null|      8.7|            MW|           null|                      null|         null|               null|            null|            null|OFFICIAL196502040...| OFFICIAL|         ISCGEM|        OFFICIAL|Automatic|     null|\n|02/04/1965|2024-02-07 06:04:59|  51.639|  175.055|Earthquake| 30.0|       null|                  null|      6.0|            MW|           null|                      null|         null|               null|            null|            null|     ISCGEMSUP859215|ISCGEMSUP|         ISCGEM|          ISCGEM|Automatic|     null|\n|02/04/1965|2024-02-07 06:37:06|  52.528|  172.007|Earthquake| 25.0|       null|                  null|      5.7|            MW|           null|                      null|         null|               null|            null|            null|        ISCGEM859221|   ISCGEM|         ISCGEM|          ISCGEM|Automatic|     null|\n|02/04/1965|2024-02-07 06:39:32|  51.626|  175.746|Earthquake| 25.0|       null|                  null|      5.8|            MW|           null|                      null|         null|               null|            null|            null|        ISCGEM859222|   ISCGEM|         ISCGEM|          ISCGEM|Automatic|     null|\n+----------+-------------------+--------+---------+----------+-----+-----------+----------------------+---------+--------------+---------------+--------------------------+-------------+-------------------+----------------+----------------+--------------------+---------+---------------+----------------+---------+---------+\nonly showing top 20 rows\n\n"
     ]
    }
   ],
   "source": [
    "#Convert the Date and Time columns into a timestamp column named Timestamp\n",
    "from pyspark.sql.functions import col, concat, to_timestamp\n",
    "df = df.withColumn(\"Timestamp\", to_timestamp(concat(col(\"Date\"), col(\"Time\")), \"dd/MM/yyyy\" \"HH:mm:ss\"))\n",
    "df.show()"
   ]
  },
  {
   "cell_type": "code",
   "execution_count": 0,
   "metadata": {
    "application/vnd.databricks.v1+cell": {
     "cellMetadata": {
      "byteLimit": 2048000,
      "rowLimit": 10000
     },
     "inputWidgets": {},
     "nuid": "2d84aa57-5737-4e0d-bdd6-9777975c829a",
     "showTitle": false,
     "title": ""
    }
   },
   "outputs": [
    {
     "output_type": "stream",
     "name": "stdout",
     "output_type": "stream",
     "text": [
      "+---------+\n|Magnitude|\n+---------+\n|      6.0|\n|      5.8|\n|      6.2|\n|      5.8|\n|      5.8|\n|      6.7|\n|      5.9|\n|      6.0|\n|      6.0|\n|      5.8|\n|      5.9|\n|      8.2|\n|      5.5|\n|      5.6|\n|      6.0|\n|      6.1|\n|      8.7|\n|      6.0|\n|      5.7|\n|      5.8|\n+---------+\nonly showing top 20 rows\n\n"
     ]
    }
   ],
   "source": [
    "#Filter the dataset to include only earthquakes with a magnitude greater than 5.0.\n",
    "filter_df = df.filter(col(\"Magnitude\") >5.0)\n",
    "filter_df.select(\"Magnitude\").show()"
   ]
  },
  {
   "cell_type": "code",
   "execution_count": 0,
   "metadata": {
    "application/vnd.databricks.v1+cell": {
     "cellMetadata": {
      "byteLimit": 2048000,
      "rowLimit": 10000
     },
     "inputWidgets": {},
     "nuid": "90cc0b5f-8903-4609-8676-874a9ea9c8ff",
     "showTitle": false,
     "title": ""
    }
   },
   "outputs": [
    {
     "output_type": "stream",
     "name": "stdout",
     "output_type": "stream",
     "text": [
      "+-----------------+-----------------+-----------------+\n|             Type|        Avg_Depth|    Avg_Magnitude|\n+-----------------+-----------------+-----------------+\n|        Explosion|              0.0|             5.85|\n|       Rock Burst|              1.0|              6.2|\n|Nuclear Explosion|              0.3|5.850685714285718|\n|       Earthquake|71.31391348140497|5.882762568870756|\n+-----------------+-----------------+-----------------+\n\n"
     ]
    }
   ],
   "source": [
    "#Calculate the average depth and magnitude of earthquakes for each earthquake type.\n",
    "from pyspark.sql import SparkSession\n",
    "from pyspark.sql.functions import col, avg\n",
    "\n",
    "result_df = filter_df.groupBy(\"Type\").agg(\n",
    "    avg(\"Depth\").alias(\"Avg_Depth\"),\n",
    "    avg(\"Magnitude\").alias(\"Avg_Magnitude\")\n",
    ")\n",
    "\n",
    "result_df.show()"
   ]
  },
  {
   "cell_type": "code",
   "execution_count": 0,
   "metadata": {
    "application/vnd.databricks.v1+cell": {
     "cellMetadata": {
      "byteLimit": 2048000,
      "rowLimit": 10000
     },
     "inputWidgets": {},
     "nuid": "f9b4171f-49d6-4df9-9fa9-b3aaab871ae3",
     "showTitle": false,
     "title": ""
    }
   },
   "outputs": [
    {
     "output_type": "stream",
     "name": "stdout",
     "output_type": "stream",
     "text": [
      "+---------------+\n|Magnitude_Level|\n+---------------+\n|High           |\n|Moderate       |\n|High           |\n|Moderate       |\n|Moderate       |\n|High           |\n|Moderate       |\n|High           |\n|High           |\n|Moderate       |\n|Moderate       |\n|High           |\n|Moderate       |\n|Moderate       |\n|High           |\n|High           |\n|High           |\n|High           |\n|Moderate       |\n|Moderate       |\n+---------------+\nonly showing top 20 rows\n\n"
     ]
    }
   ],
   "source": [
    "#Implement a UDF to categorize the earthquakes into levels (e.g., Low, Moderate, High) based on their magnitudes.\n",
    "\n",
    "from pyspark.sql.functions import col, udf\n",
    "from pyspark.sql.types import StringType\n",
    "\n",
    "# Define a UDF to catogorize earthquakes based on their magnitudes\n",
    "\n",
    "def categorize_magnitude(magnitude):\n",
    "    if magnitude<4.0:\n",
    "        return\"Low\"\n",
    "    elif 4.0 <= magnitude < 6.0:\n",
    "        return\"Moderate\"\n",
    "    else:\n",
    "        return\"High\"\n",
    "    \n",
    "\n",
    "#Registerd UDF \n",
    "categorize_magnitude_udf = udf(categorize_magnitude,StringType())\n",
    "\n",
    "#Apply UDF and Create a New Column \n",
    "\n",
    "df = df.withColumn(\"Magnitude_Level\", categorize_magnitude_udf(col(\"Magnitude\")))\n",
    "\n",
    "df.select(\"Magnitude_Level\").show(truncate=False)"
   ]
  },
  {
   "cell_type": "code",
   "execution_count": 0,
   "metadata": {
    "application/vnd.databricks.v1+cell": {
     "cellMetadata": {
      "byteLimit": 2048000,
      "rowLimit": 10000
     },
     "inputWidgets": {},
     "nuid": "dc49b3a9-fc5f-4a2c-845d-9bdf41db865b",
     "showTitle": false,
     "title": ""
    }
   },
   "outputs": [
    {
     "output_type": "stream",
     "name": "stdout",
     "output_type": "stream",
     "text": [
      "+------------------+\n|          Distance|\n+------------------+\n| 146.8823609968195|\n|127.36562594750595|\n|175.18490809713035|\n| 63.59957566682344|\n|126.98937818967381|\n|167.16733432701497|\n| 92.02725214848046|\n|166.74399067132822|\n|62.595144803730584|\n|180.16922639008027|\n| 109.2003635204572|\n|125.97899812270298|\n|170.68377985327137|\n|178.84401109626234|\n| 82.30239686667699|\n|149.04674663004224|\n|185.91857418235546|\n|182.51257311758005|\n| 179.8488221618368|\n|183.17177837210622|\n+------------------+\nonly showing top 20 rows\n\n"
     ]
    }
   ],
   "source": [
    "#Calculate the distance of each earthquake from a reference location (e.g., (0, 0)).\n",
    "\n",
    "from pyspark.sql import SparkSession\n",
    "from pyspark.sql.functions import col, sqrt\n",
    "\n",
    "#Reference Location \n",
    "reference_latitude =0\n",
    "reference_longitude = 0\n",
    "\n",
    "#For Calculate Distance We use Pythagores Theorem\n",
    "df = df.withColumn(\n",
    "    \"Distance\",\n",
    "    sqrt((col(\"Latitude\") - reference_latitude)**2 + (col(\"Longitude\") - reference_longitude)**2)\n",
    ")\n",
    "\n",
    "df.select(\"Distance\").show()\n"
   ]
  },
  {
   "cell_type": "code",
   "execution_count": 0,
   "metadata": {
    "application/vnd.databricks.v1+cell": {
     "cellMetadata": {
      "byteLimit": 2048000,
      "rowLimit": 10000
     },
     "inputWidgets": {},
     "nuid": "68082387-46bc-470d-ba2f-3044bf26feb6",
     "showTitle": false,
     "title": ""
    }
   },
   "outputs": [
    {
     "output_type": "display_data",
     "data": {
      "text/html": [
       "<div style=\"width:100%;\"><div style=\"position:relative;width:100%;height:0;padding-bottom:60%;\"><span style=\"color:#565656\">Make this Notebook Trusted to load map: File -> Trust Notebook</span><iframe srcdoc=\"&lt;!DOCTYPE html&gt;\n",
       "&lt;html&gt;\n",
       "&lt;head&gt;\n",
       "    \n",
       "    &lt;meta http-equiv=&quot;content-type&quot; content=&quot;text/html; charset=UTF-8&quot; /&gt;\n",
       "    \n",
       "        &lt;script&gt;\n",
       "            L_NO_TOUCH = false;\n",
       "            L_DISABLE_3D = false;\n",
       "        &lt;/script&gt;\n",
       "    \n",
       "    &lt;style&gt;html, body {width: 100%;height: 100%;margin: 0;padding: 0;}&lt;/style&gt;\n",
       "    &lt;style&gt;#map {position:absolute;top:0;bottom:0;right:0;left:0;}&lt;/style&gt;\n",
       "    &lt;script src=&quot;https://cdn.jsdelivr.net/npm/leaflet@1.9.3/dist/leaflet.js&quot;&gt;&lt;/script&gt;\n",
       "    &lt;script src=&quot;https://code.jquery.com/jquery-3.7.1.min.js&quot;&gt;&lt;/script&gt;\n",
       "    &lt;script src=&quot;https://cdn.jsdelivr.net/npm/bootstrap@5.2.2/dist/js/bootstrap.bundle.min.js&quot;&gt;&lt;/script&gt;\n",
       "    &lt;script src=&quot;https://cdnjs.cloudflare.com/ajax/libs/Leaflet.awesome-markers/2.0.2/leaflet.awesome-markers.js&quot;&gt;&lt;/script&gt;\n",
       "    &lt;link rel=&quot;stylesheet&quot; href=&quot;https://cdn.jsdelivr.net/npm/leaflet@1.9.3/dist/leaflet.css&quot;/&gt;\n",
       "    &lt;link rel=&quot;stylesheet&quot; href=&quot;https://cdn.jsdelivr.net/npm/bootstrap@5.2.2/dist/css/bootstrap.min.css&quot;/&gt;\n",
       "    &lt;link rel=&quot;stylesheet&quot; href=&quot;https://netdna.bootstrapcdn.com/bootstrap/3.0.0/css/bootstrap.min.css&quot;/&gt;\n",
       "    &lt;link rel=&quot;stylesheet&quot; href=&quot;https://cdn.jsdelivr.net/npm/@fortawesome/fontawesome-free@6.2.0/css/all.min.css&quot;/&gt;\n",
       "    &lt;link rel=&quot;stylesheet&quot; href=&quot;https://cdnjs.cloudflare.com/ajax/libs/Leaflet.awesome-markers/2.0.2/leaflet.awesome-markers.css&quot;/&gt;\n",
       "    &lt;link rel=&quot;stylesheet&quot; href=&quot;https://cdn.jsdelivr.net/gh/python-visualization/folium/folium/templates/leaflet.awesome.rotate.min.css&quot;/&gt;\n",
       "    \n",
       "            &lt;meta name=&quot;viewport&quot; content=&quot;width=device-width,\n",
       "                initial-scale=1.0, maximum-scale=1.0, user-scalable=no&quot; /&gt;\n",
       "            &lt;style&gt;\n",
       "                #map_5176da047fe6353ea8d05ece1bb9d573 {\n",
       "                    position: relative;\n",
       "                    width: 100.0%;\n",
       "                    height: 100.0%;\n",
       "                    left: 0.0%;\n",
       "                    top: 0.0%;\n",
       "                }\n",
       "                .leaflet-container { font-size: 1rem; }\n",
       "            &lt;/style&gt;\n",
       "        \n",
       "&lt;/head&gt;\n",
       "&lt;body&gt;\n",
       "    \n",
       "    \n",
       "            &lt;div class=&quot;folium-map&quot; id=&quot;map_5176da047fe6353ea8d05ece1bb9d573&quot; &gt;&lt;/div&gt;\n",
       "        \n",
       "&lt;/body&gt;\n",
       "&lt;script&gt;\n",
       "    \n",
       "    \n",
       "            var map_5176da047fe6353ea8d05ece1bb9d573 = L.map(\n",
       "                &quot;map_5176da047fe6353ea8d05ece1bb9d573&quot;,\n",
       "                {\n",
       "                    center: [0.0, 0.0],\n",
       "                    crs: L.CRS.EPSG3857,\n",
       "                    zoom: 2,\n",
       "                    zoomControl: true,\n",
       "                    preferCanvas: false,\n",
       "                }\n",
       "            );\n",
       "\n",
       "            \n",
       "\n",
       "        \n",
       "    \n",
       "            var tile_layer_87e1bf6ef93f5a599f71e519dd09f5ac = L.tileLayer(\n",
       "                &quot;https://tile.openstreetmap.org/{z}/{x}/{y}.png&quot;,\n",
       "                {&quot;attribution&quot;: &quot;\\u0026copy; \\u003ca href=\\&quot;https://www.openstreetmap.org/copyright\\&quot;\\u003eOpenStreetMap\\u003c/a\\u003e contributors&quot;, &quot;detectRetina&quot;: false, &quot;maxNativeZoom&quot;: 19, &quot;maxZoom&quot;: 19, &quot;minZoom&quot;: 0, &quot;noWrap&quot;: false, &quot;opacity&quot;: 1, &quot;subdomains&quot;: &quot;abc&quot;, &quot;tms&quot;: false}\n",
       "            );\n",
       "        \n",
       "    \n",
       "            tile_layer_87e1bf6ef93f5a599f71e519dd09f5ac.addTo(map_5176da047fe6353ea8d05ece1bb9d573);\n",
       "        \n",
       "&lt;/script&gt;\n",
       "&lt;/html&gt;\" style=\"position:absolute;width:100%;height:100%;left:0;top:0;border:none !important;\" allowfullscreen webkitallowfullscreen mozallowfullscreen></iframe></div></div>"
      ]
     },
     "metadata": {
      "application/vnd.databricks.v1+output": {
       "addedWidgets": {},
       "arguments": {},
       "data": "<div style=\"width:100%;\"><div style=\"position:relative;width:100%;height:0;padding-bottom:60%;\"><span style=\"color:#565656\">Make this Notebook Trusted to load map: File -> Trust Notebook</span><iframe srcdoc=\"&lt;!DOCTYPE html&gt;\n&lt;html&gt;\n&lt;head&gt;\n    \n    &lt;meta http-equiv=&quot;content-type&quot; content=&quot;text/html; charset=UTF-8&quot; /&gt;\n    \n        &lt;script&gt;\n            L_NO_TOUCH = false;\n            L_DISABLE_3D = false;\n        &lt;/script&gt;\n    \n    &lt;style&gt;html, body {width: 100%;height: 100%;margin: 0;padding: 0;}&lt;/style&gt;\n    &lt;style&gt;#map {position:absolute;top:0;bottom:0;right:0;left:0;}&lt;/style&gt;\n    &lt;script src=&quot;https://cdn.jsdelivr.net/npm/leaflet@1.9.3/dist/leaflet.js&quot;&gt;&lt;/script&gt;\n    &lt;script src=&quot;https://code.jquery.com/jquery-3.7.1.min.js&quot;&gt;&lt;/script&gt;\n    &lt;script src=&quot;https://cdn.jsdelivr.net/npm/bootstrap@5.2.2/dist/js/bootstrap.bundle.min.js&quot;&gt;&lt;/script&gt;\n    &lt;script src=&quot;https://cdnjs.cloudflare.com/ajax/libs/Leaflet.awesome-markers/2.0.2/leaflet.awesome-markers.js&quot;&gt;&lt;/script&gt;\n    &lt;link rel=&quot;stylesheet&quot; href=&quot;https://cdn.jsdelivr.net/npm/leaflet@1.9.3/dist/leaflet.css&quot;/&gt;\n    &lt;link rel=&quot;stylesheet&quot; href=&quot;https://cdn.jsdelivr.net/npm/bootstrap@5.2.2/dist/css/bootstrap.min.css&quot;/&gt;\n    &lt;link rel=&quot;stylesheet&quot; href=&quot;https://netdna.bootstrapcdn.com/bootstrap/3.0.0/css/bootstrap.min.css&quot;/&gt;\n    &lt;link rel=&quot;stylesheet&quot; href=&quot;https://cdn.jsdelivr.net/npm/@fortawesome/fontawesome-free@6.2.0/css/all.min.css&quot;/&gt;\n    &lt;link rel=&quot;stylesheet&quot; href=&quot;https://cdnjs.cloudflare.com/ajax/libs/Leaflet.awesome-markers/2.0.2/leaflet.awesome-markers.css&quot;/&gt;\n    &lt;link rel=&quot;stylesheet&quot; href=&quot;https://cdn.jsdelivr.net/gh/python-visualization/folium/folium/templates/leaflet.awesome.rotate.min.css&quot;/&gt;\n    \n            &lt;meta name=&quot;viewport&quot; content=&quot;width=device-width,\n                initial-scale=1.0, maximum-scale=1.0, user-scalable=no&quot; /&gt;\n            &lt;style&gt;\n                #map_5176da047fe6353ea8d05ece1bb9d573 {\n                    position: relative;\n                    width: 100.0%;\n                    height: 100.0%;\n                    left: 0.0%;\n                    top: 0.0%;\n                }\n                .leaflet-container { font-size: 1rem; }\n            &lt;/style&gt;\n        \n&lt;/head&gt;\n&lt;body&gt;\n    \n    \n            &lt;div class=&quot;folium-map&quot; id=&quot;map_5176da047fe6353ea8d05ece1bb9d573&quot; &gt;&lt;/div&gt;\n        \n&lt;/body&gt;\n&lt;script&gt;\n    \n    \n            var map_5176da047fe6353ea8d05ece1bb9d573 = L.map(\n                &quot;map_5176da047fe6353ea8d05ece1bb9d573&quot;,\n                {\n                    center: [0.0, 0.0],\n                    crs: L.CRS.EPSG3857,\n                    zoom: 2,\n                    zoomControl: true,\n                    preferCanvas: false,\n                }\n            );\n\n            \n\n        \n    \n            var tile_layer_87e1bf6ef93f5a599f71e519dd09f5ac = L.tileLayer(\n                &quot;https://tile.openstreetmap.org/{z}/{x}/{y}.png&quot;,\n                {&quot;attribution&quot;: &quot;\\u0026copy; \\u003ca href=\\&quot;https://www.openstreetmap.org/copyright\\&quot;\\u003eOpenStreetMap\\u003c/a\\u003e contributors&quot;, &quot;detectRetina&quot;: false, &quot;maxNativeZoom&quot;: 19, &quot;maxZoom&quot;: 19, &quot;minZoom&quot;: 0, &quot;noWrap&quot;: false, &quot;opacity&quot;: 1, &quot;subdomains&quot;: &quot;abc&quot;, &quot;tms&quot;: false}\n            );\n        \n    \n            tile_layer_87e1bf6ef93f5a599f71e519dd09f5ac.addTo(map_5176da047fe6353ea8d05ece1bb9d573);\n        \n&lt;/script&gt;\n&lt;/html&gt;\" style=\"position:absolute;width:100%;height:100%;left:0;top:0;border:none !important;\" allowfullscreen webkitallowfullscreen mozallowfullscreen></iframe></div></div>",
       "datasetInfos": [],
       "metadata": {},
       "removedWidgets": [],
       "textData": null,
       "type": "htmlSandbox"
      }
     },
     "output_type": "display_data"
    }
   ],
   "source": [
    "#Visualize the geographical distribution of earthquakes on a world map using appropriate libraries (e.g., Basemap or Folium).\n",
    "\n",
    "from pyspark.sql.functions import col, concat, to_timestamp\n",
    "import folium\n",
    "\n",
    "# Initialize a Folium map centered at (0, 0)\n",
    "map_center = [0, 0]\n",
    "mymap = folium.Map(location=map_center, zoom_start=2)\n",
    "\n",
    "# Define a function to add markers to the map\n",
    "def add_marker(row):\n",
    "    latitude = row['Latitude']\n",
    "    longitude = row['Longitude']\n",
    "    magnitude = row['Magnitude']\n",
    "    popup_text = f\"Magnitude: {magnitude}<br>Latitude: {latitude}<br>Longitude: {longitude}\"\n",
    "    folium.Marker([latitude, longitude], popup=popup_text).add_to(mymap)\n",
    "\n",
    "# Use foreach to apply the add_marker function to each row\n",
    "df.foreach(add_marker)\n",
    "\n",
    "# Display the map in Databricks notebook using display\n",
    "display(mymap)"
   ]
  },
  {
   "cell_type": "code",
   "execution_count": 0,
   "metadata": {
    "application/vnd.databricks.v1+cell": {
     "cellMetadata": {
      "byteLimit": 2048000,
      "rowLimit": 10000
     },
     "inputWidgets": {},
     "nuid": "4096bfa0-8ff1-4b81-9389-52335de4ea1d",
     "showTitle": false,
     "title": ""
    }
   },
   "outputs": [],
   "source": [
    "#Final CSV format\n",
    "final_csv_path = \"final_earthquake_data.csv\"\n",
    "df.write.csv(final_csv_path, header=True, mode=\"overwrite\")"
   ]
  },
  {
   "cell_type": "code",
   "execution_count": 0,
   "metadata": {
    "application/vnd.databricks.v1+cell": {
     "cellMetadata": {
      "byteLimit": 2048000,
      "rowLimit": 10000
     },
     "inputWidgets": {},
     "nuid": "288f22a4-b6c8-4c55-9da9-4794139e41b0",
     "showTitle": false,
     "title": ""
    }
   },
   "outputs": [
    {
     "output_type": "stream",
     "name": "stdout",
     "output_type": "stream",
     "text": [
      "The file is stored at: /dbfs/FileStore/your_custom_path/final_earthquake_data.csv\n"
     ]
    }
   ],
   "source": [
    "final_csv_path = \"/dbfs/FileStore/your_custom_path/final_earthquake_data.csv\"\n",
    "print(f\"The file is stored at: {final_csv_path}\")"
   ]
  }
 ],
 "metadata": {
  "application/vnd.databricks.v1+notebook": {
   "dashboards": [],
   "language": "python",
   "notebookMetadata": {
    "pythonIndentUnit": 4
   },
   "notebookName": "Earthquake_Analysis_Aidetic",
   "widgets": {}
  }
 },
 "nbformat": 4,
 "nbformat_minor": 0
}
